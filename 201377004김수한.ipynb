{
 "cells": [
  {
   "cell_type": "code",
   "execution_count": 1,
   "metadata": {},
   "outputs": [
    {
     "name": "stderr",
     "output_type": "stream",
     "text": [
      "C:\\Users\\SH\\Anaconda3\\lib\\site-packages\\IPython\\config.py:13: ShimWarning: The `IPython.config` package has been deprecated since IPython 4.0. You should import from traitlets.config instead.\n",
      "  \"You should import from traitlets.config instead.\", ShimWarning)\n",
      "C:\\Users\\SH\\Anaconda3\\lib\\site-packages\\IPython\\utils\\traitlets.py:5: UserWarning: IPython.utils.traitlets has moved to a top-level traitlets package.\n",
      "  warn(\"IPython.utils.traitlets has moved to a top-level traitlets package.\")\n"
     ]
    }
   ],
   "source": [
    "%load_ext sql"
   ]
  },
  {
   "cell_type": "code",
   "execution_count": 2,
   "metadata": {},
   "outputs": [
    {
     "data": {
      "text/plain": [
       "'Connected: None@sample1.db'"
      ]
     },
     "execution_count": 2,
     "metadata": {},
     "output_type": "execute_result"
    }
   ],
   "source": [
    "%sql sqlite:///sample1.db"
   ]
  },
  {
   "cell_type": "code",
   "execution_count": 3,
   "metadata": {},
   "outputs": [
    {
     "name": "stdout",
     "output_type": "stream",
     "text": [
      "Done.\n"
     ]
    },
    {
     "data": {
      "text/html": [
       "<table>\n",
       "    <tr>\n",
       "        <th>deptno</th>\n",
       "        <th>deptname</th>\n",
       "        <th>floor</th>\n",
       "    </tr>\n",
       "    <tr>\n",
       "        <td>1</td>\n",
       "        <td>영업</td>\n",
       "        <td>8</td>\n",
       "    </tr>\n",
       "    <tr>\n",
       "        <td>2</td>\n",
       "        <td>기획</td>\n",
       "        <td>10</td>\n",
       "    </tr>\n",
       "    <tr>\n",
       "        <td>3</td>\n",
       "        <td>개발</td>\n",
       "        <td>9</td>\n",
       "    </tr>\n",
       "    <tr>\n",
       "        <td>4</td>\n",
       "        <td>총부</td>\n",
       "        <td>7</td>\n",
       "    </tr>\n",
       "</table>"
      ],
      "text/plain": [
       "[(1, '영업', 8), (2, '기획', 10), (3, '개발', 9), (4, '총부', 7)]"
      ]
     },
     "execution_count": 3,
     "metadata": {},
     "output_type": "execute_result"
    }
   ],
   "source": [
    "%sql select * from dept;"
   ]
  },
  {
   "cell_type": "code",
   "execution_count": 4,
   "metadata": {},
   "outputs": [
    {
     "name": "stdout",
     "output_type": "stream",
     "text": [
      "Done.\n"
     ]
    },
    {
     "data": {
      "text/html": [
       "<table>\n",
       "    <tr>\n",
       "        <th>empno</th>\n",
       "        <th>empname</th>\n",
       "        <th>title</th>\n",
       "        <th>manager</th>\n",
       "        <th>salary</th>\n",
       "        <th>dno</th>\n",
       "    </tr>\n",
       "    <tr>\n",
       "        <td>4377</td>\n",
       "        <td>이성래</td>\n",
       "        <td>사장</td>\n",
       "        <td>None</td>\n",
       "        <td>5000000</td>\n",
       "        <td>2</td>\n",
       "    </tr>\n",
       "    <tr>\n",
       "        <td>3426</td>\n",
       "        <td>박영권</td>\n",
       "        <td>과장</td>\n",
       "        <td>4377</td>\n",
       "        <td>3000000</td>\n",
       "        <td>1</td>\n",
       "    </tr>\n",
       "    <tr>\n",
       "        <td>3011</td>\n",
       "        <td>이수민</td>\n",
       "        <td>부장</td>\n",
       "        <td>4377</td>\n",
       "        <td>4000000</td>\n",
       "        <td>3</td>\n",
       "    </tr>\n",
       "    <tr>\n",
       "        <td>3427</td>\n",
       "        <td>최종철</td>\n",
       "        <td>사원</td>\n",
       "        <td>3011</td>\n",
       "        <td>1500000</td>\n",
       "        <td>3</td>\n",
       "    </tr>\n",
       "    <tr>\n",
       "        <td>1003</td>\n",
       "        <td>조민희</td>\n",
       "        <td>과장</td>\n",
       "        <td>4377</td>\n",
       "        <td>3000000</td>\n",
       "        <td>2</td>\n",
       "    </tr>\n",
       "    <tr>\n",
       "        <td>2106</td>\n",
       "        <td>김창섭</td>\n",
       "        <td>대리</td>\n",
       "        <td>1003</td>\n",
       "        <td>2500000</td>\n",
       "        <td>2</td>\n",
       "    </tr>\n",
       "    <tr>\n",
       "        <td>1365</td>\n",
       "        <td>김상원</td>\n",
       "        <td>사원</td>\n",
       "        <td>3426</td>\n",
       "        <td>1500000</td>\n",
       "        <td>1</td>\n",
       "    </tr>\n",
       "</table>"
      ],
      "text/plain": [
       "[(4377, '이성래', '사장', None, 5000000, 2),\n",
       " (3426, '박영권', '과장', 4377, 3000000, 1),\n",
       " (3011, '이수민', '부장', 4377, 4000000, 3),\n",
       " (3427, '최종철', '사원', 3011, 1500000, 3),\n",
       " (1003, '조민희', '과장', 4377, 3000000, 2),\n",
       " (2106, '김창섭', '대리', 1003, 2500000, 2),\n",
       " (1365, '김상원', '사원', 3426, 1500000, 1)]"
      ]
     },
     "execution_count": 4,
     "metadata": {},
     "output_type": "execute_result"
    }
   ],
   "source": [
    "%sql select * from emp;"
   ]
  },
  {
   "cell_type": "code",
   "execution_count": 5,
   "metadata": {},
   "outputs": [
    {
     "data": {
      "text/plain": [
       "'Connected: None@sample2.db'"
      ]
     },
     "execution_count": 5,
     "metadata": {},
     "output_type": "execute_result"
    }
   ],
   "source": [
    "%sql sqlite:///sample2.db"
   ]
  },
  {
   "cell_type": "code",
   "execution_count": 6,
   "metadata": {},
   "outputs": [
    {
     "name": "stdout",
     "output_type": "stream",
     "text": [
      "Done.\n"
     ]
    },
    {
     "data": {
      "text/html": [
       "<table>\n",
       "    <tr>\n",
       "        <th>sid</th>\n",
       "        <th>sname</th>\n",
       "        <th>major</th>\n",
       "        <th>gradelevel</th>\n",
       "        <th>Age</th>\n",
       "    </tr>\n",
       "    <tr>\n",
       "        <td>100</td>\n",
       "        <td>JONES</td>\n",
       "        <td>HISTORY</td>\n",
       "        <td>GR</td>\n",
       "        <td>21</td>\n",
       "    </tr>\n",
       "    <tr>\n",
       "        <td>150</td>\n",
       "        <td>PARKS</td>\n",
       "        <td>ACCOUNTING</td>\n",
       "        <td>SO</td>\n",
       "        <td>19</td>\n",
       "    </tr>\n",
       "    <tr>\n",
       "        <td>200</td>\n",
       "        <td>BAKER</td>\n",
       "        <td>MATH</td>\n",
       "        <td>GR</td>\n",
       "        <td>50</td>\n",
       "    </tr>\n",
       "    <tr>\n",
       "        <td>250</td>\n",
       "        <td>GLASS</td>\n",
       "        <td>HISTORY</td>\n",
       "        <td>SN</td>\n",
       "        <td>50</td>\n",
       "    </tr>\n",
       "    <tr>\n",
       "        <td>300</td>\n",
       "        <td>BAKER</td>\n",
       "        <td>ACCOUNTING</td>\n",
       "        <td>SN</td>\n",
       "        <td>41</td>\n",
       "    </tr>\n",
       "    <tr>\n",
       "        <td>350</td>\n",
       "        <td>RUSSEL</td>\n",
       "        <td>MATH</td>\n",
       "        <td>JR</td>\n",
       "        <td>20</td>\n",
       "    </tr>\n",
       "    <tr>\n",
       "        <td>400</td>\n",
       "        <td>RYE</td>\n",
       "        <td>ACCOUNTING</td>\n",
       "        <td>FR</td>\n",
       "        <td>18</td>\n",
       "    </tr>\n",
       "    <tr>\n",
       "        <td>450</td>\n",
       "        <td>JONES</td>\n",
       "        <td>HISTORY</td>\n",
       "        <td>SN</td>\n",
       "        <td>24</td>\n",
       "    </tr>\n",
       "</table>"
      ],
      "text/plain": [
       "[(100, 'JONES', 'HISTORY', 'GR', 21),\n",
       " (150, 'PARKS', 'ACCOUNTING', 'SO', 19),\n",
       " (200, 'BAKER', 'MATH', 'GR', 50),\n",
       " (250, 'GLASS', 'HISTORY', 'SN', 50),\n",
       " (300, 'BAKER', 'ACCOUNTING', 'SN', 41),\n",
       " (350, 'RUSSEL', 'MATH', 'JR', 20),\n",
       " (400, 'RYE', 'ACCOUNTING', 'FR', 18),\n",
       " (450, 'JONES', 'HISTORY', 'SN', 24)]"
      ]
     },
     "execution_count": 6,
     "metadata": {},
     "output_type": "execute_result"
    }
   ],
   "source": [
    "%sql select * from student;"
   ]
  },
  {
   "cell_type": "code",
   "execution_count": 7,
   "metadata": {},
   "outputs": [
    {
     "name": "stdout",
     "output_type": "stream",
     "text": [
      "Done.\n"
     ]
    },
    {
     "data": {
      "text/html": [
       "<table>\n",
       "    <tr>\n",
       "        <th>cname</th>\n",
       "        <th>time</th>\n",
       "        <th>room</th>\n",
       "    </tr>\n",
       "    <tr>\n",
       "        <td>BA200</td>\n",
       "        <td>M-F9</td>\n",
       "        <td>SC110</td>\n",
       "    </tr>\n",
       "    <tr>\n",
       "        <td>BD445</td>\n",
       "        <td>MWF3</td>\n",
       "        <td>SC213</td>\n",
       "    </tr>\n",
       "    <tr>\n",
       "        <td>BF410</td>\n",
       "        <td>MWF8</td>\n",
       "        <td>SC213</td>\n",
       "    </tr>\n",
       "    <tr>\n",
       "        <td>CS150</td>\n",
       "        <td>MWF3</td>\n",
       "        <td>EA304</td>\n",
       "    </tr>\n",
       "    <tr>\n",
       "        <td>CS250</td>\n",
       "        <td>MWF12</td>\n",
       "        <td>EB210</td>\n",
       "    </tr>\n",
       "</table>"
      ],
      "text/plain": [
       "[('BA200', 'M-F9', 'SC110'),\n",
       " ('BD445', 'MWF3', 'SC213'),\n",
       " ('BF410', 'MWF8', 'SC213'),\n",
       " ('CS150', 'MWF3', 'EA304'),\n",
       " ('CS250', 'MWF12', 'EB210')]"
      ]
     },
     "execution_count": 7,
     "metadata": {},
     "output_type": "execute_result"
    }
   ],
   "source": [
    "%sql select * from class;"
   ]
  },
  {
   "cell_type": "code",
   "execution_count": 8,
   "metadata": {},
   "outputs": [
    {
     "name": "stdout",
     "output_type": "stream",
     "text": [
      "Done.\n"
     ]
    },
    {
     "data": {
      "text/html": [
       "<table>\n",
       "    <tr>\n",
       "        <th>studentnumber</th>\n",
       "        <th>classname</th>\n",
       "        <th>positionnumber</th>\n",
       "    </tr>\n",
       "    <tr>\n",
       "        <td>100</td>\n",
       "        <td>BD445</td>\n",
       "        <td>1</td>\n",
       "    </tr>\n",
       "    <tr>\n",
       "        <td>150</td>\n",
       "        <td>BA200</td>\n",
       "        <td>1</td>\n",
       "    </tr>\n",
       "    <tr>\n",
       "        <td>200</td>\n",
       "        <td>BD445</td>\n",
       "        <td>2</td>\n",
       "    </tr>\n",
       "    <tr>\n",
       "        <td>200</td>\n",
       "        <td>CS250</td>\n",
       "        <td>1</td>\n",
       "    </tr>\n",
       "    <tr>\n",
       "        <td>300</td>\n",
       "        <td>CS150</td>\n",
       "        <td>1</td>\n",
       "    </tr>\n",
       "    <tr>\n",
       "        <td>400</td>\n",
       "        <td>BA200</td>\n",
       "        <td>2</td>\n",
       "    </tr>\n",
       "    <tr>\n",
       "        <td>400</td>\n",
       "        <td>BF410</td>\n",
       "        <td>1</td>\n",
       "    </tr>\n",
       "    <tr>\n",
       "        <td>400</td>\n",
       "        <td>CS250</td>\n",
       "        <td>2</td>\n",
       "    </tr>\n",
       "    <tr>\n",
       "        <td>450</td>\n",
       "        <td>BA200</td>\n",
       "        <td>3</td>\n",
       "    </tr>\n",
       "</table>"
      ],
      "text/plain": [
       "[(100, 'BD445', 1),\n",
       " (150, 'BA200', 1),\n",
       " (200, 'BD445', 2),\n",
       " (200, 'CS250', 1),\n",
       " (300, 'CS150', 1),\n",
       " (400, 'BA200', 2),\n",
       " (400, 'BF410', 1),\n",
       " (400, 'CS250', 2),\n",
       " (450, 'BA200', 3)]"
      ]
     },
     "execution_count": 8,
     "metadata": {},
     "output_type": "execute_result"
    }
   ],
   "source": [
    "%sql select * from enrollment;"
   ]
  },
  {
   "cell_type": "code",
   "execution_count": 9,
   "metadata": {},
   "outputs": [
    {
     "data": {
      "text/plain": [
       "'Connected: None@sample3.db'"
      ]
     },
     "execution_count": 9,
     "metadata": {},
     "output_type": "execute_result"
    }
   ],
   "source": [
    "%sql sqlite:///sample3.db"
   ]
  },
  {
   "cell_type": "code",
   "execution_count": 10,
   "metadata": {},
   "outputs": [
    {
     "name": "stdout",
     "output_type": "stream",
     "text": [
      "Done.\n"
     ]
    },
    {
     "data": {
      "text/html": [
       "<table>\n",
       "    <tr>\n",
       "        <th>sno</th>\n",
       "        <th>sname</th>\n",
       "        <th>city</th>\n",
       "    </tr>\n",
       "    <tr>\n",
       "        <td>s01</td>\n",
       "        <td>Smith</td>\n",
       "        <td>London</td>\n",
       "    </tr>\n",
       "    <tr>\n",
       "        <td>s02</td>\n",
       "        <td>jones</td>\n",
       "        <td>Paris</td>\n",
       "    </tr>\n",
       "    <tr>\n",
       "        <td>s03</td>\n",
       "        <td>blakes</td>\n",
       "        <td>Paris</td>\n",
       "    </tr>\n",
       "    <tr>\n",
       "        <td>s04</td>\n",
       "        <td>clark</td>\n",
       "        <td>London</td>\n",
       "    </tr>\n",
       "    <tr>\n",
       "        <td>s05</td>\n",
       "        <td>adams</td>\n",
       "        <td>Athenes</td>\n",
       "    </tr>\n",
       "</table>"
      ],
      "text/plain": [
       "[('s01', 'Smith', 'London'),\n",
       " ('s02', 'jones', 'Paris'),\n",
       " ('s03', 'blakes', 'Paris'),\n",
       " ('s04', 'clark', 'London'),\n",
       " ('s05', 'adams', 'Athenes')]"
      ]
     },
     "execution_count": 10,
     "metadata": {},
     "output_type": "execute_result"
    }
   ],
   "source": [
    "%sql select * from s;"
   ]
  },
  {
   "cell_type": "code",
   "execution_count": 11,
   "metadata": {},
   "outputs": [
    {
     "name": "stdout",
     "output_type": "stream",
     "text": [
      "Done.\n"
     ]
    },
    {
     "data": {
      "text/html": [
       "<table>\n",
       "    <tr>\n",
       "        <th>pno</th>\n",
       "        <th>pname</th>\n",
       "        <th>color</th>\n",
       "        <th>WEIGHT</th>\n",
       "        <th>city</th>\n",
       "    </tr>\n",
       "    <tr>\n",
       "        <td>p01</td>\n",
       "        <td>Nut</td>\n",
       "        <td>red</td>\n",
       "        <td>12</td>\n",
       "        <td>London</td>\n",
       "    </tr>\n",
       "    <tr>\n",
       "        <td>p02</td>\n",
       "        <td>Bolt</td>\n",
       "        <td>green</td>\n",
       "        <td>17</td>\n",
       "        <td>Paris</td>\n",
       "    </tr>\n",
       "    <tr>\n",
       "        <td>p03</td>\n",
       "        <td>Screw</td>\n",
       "        <td>blue</td>\n",
       "        <td>17</td>\n",
       "        <td>Rome</td>\n",
       "    </tr>\n",
       "    <tr>\n",
       "        <td>p04</td>\n",
       "        <td>Screw</td>\n",
       "        <td>red</td>\n",
       "        <td>14</td>\n",
       "        <td>London</td>\n",
       "    </tr>\n",
       "    <tr>\n",
       "        <td>p05</td>\n",
       "        <td>cam</td>\n",
       "        <td>blue</td>\n",
       "        <td>12</td>\n",
       "        <td>Paris</td>\n",
       "    </tr>\n",
       "    <tr>\n",
       "        <td>p06</td>\n",
       "        <td>cog</td>\n",
       "        <td>red</td>\n",
       "        <td>19</td>\n",
       "        <td>London</td>\n",
       "    </tr>\n",
       "</table>"
      ],
      "text/plain": [
       "[('p01', 'Nut', 'red', 12, 'London'),\n",
       " ('p02', 'Bolt', 'green', 17, 'Paris'),\n",
       " ('p03', 'Screw', 'blue', 17, 'Rome'),\n",
       " ('p04', 'Screw', 'red', 14, 'London'),\n",
       " ('p05', 'cam', 'blue', 12, 'Paris'),\n",
       " ('p06', 'cog', 'red', 19, 'London')]"
      ]
     },
     "execution_count": 11,
     "metadata": {},
     "output_type": "execute_result"
    }
   ],
   "source": [
    "%sql select * from p;"
   ]
  },
  {
   "cell_type": "code",
   "execution_count": 12,
   "metadata": {},
   "outputs": [
    {
     "name": "stdout",
     "output_type": "stream",
     "text": [
      "Done.\n"
     ]
    },
    {
     "data": {
      "text/html": [
       "<table>\n",
       "    <tr>\n",
       "        <th>sno</th>\n",
       "        <th>pno</th>\n",
       "        <th>qty</th>\n",
       "    </tr>\n",
       "    <tr>\n",
       "        <td>s01</td>\n",
       "        <td>p01</td>\n",
       "        <td>300</td>\n",
       "    </tr>\n",
       "    <tr>\n",
       "        <td>s01</td>\n",
       "        <td>p02</td>\n",
       "        <td>200</td>\n",
       "    </tr>\n",
       "    <tr>\n",
       "        <td>s01</td>\n",
       "        <td>p03</td>\n",
       "        <td>400</td>\n",
       "    </tr>\n",
       "    <tr>\n",
       "        <td>s01</td>\n",
       "        <td>p04</td>\n",
       "        <td>500</td>\n",
       "    </tr>\n",
       "    <tr>\n",
       "        <td>s01</td>\n",
       "        <td>p05</td>\n",
       "        <td>100</td>\n",
       "    </tr>\n",
       "    <tr>\n",
       "        <td>s01</td>\n",
       "        <td>p06</td>\n",
       "        <td>200</td>\n",
       "    </tr>\n",
       "    <tr>\n",
       "        <td>s02</td>\n",
       "        <td>p01</td>\n",
       "        <td>300</td>\n",
       "    </tr>\n",
       "    <tr>\n",
       "        <td>s02</td>\n",
       "        <td>p02</td>\n",
       "        <td>400</td>\n",
       "    </tr>\n",
       "    <tr>\n",
       "        <td>s03</td>\n",
       "        <td>p02</td>\n",
       "        <td>200</td>\n",
       "    </tr>\n",
       "    <tr>\n",
       "        <td>s04</td>\n",
       "        <td>p04</td>\n",
       "        <td>300</td>\n",
       "    </tr>\n",
       "    <tr>\n",
       "        <td>s05</td>\n",
       "        <td>p05</td>\n",
       "        <td>400</td>\n",
       "    </tr>\n",
       "</table>"
      ],
      "text/plain": [
       "[('s01', 'p01', 300),\n",
       " ('s01', 'p02', 200),\n",
       " ('s01', 'p03', 400),\n",
       " ('s01', 'p04', 500),\n",
       " ('s01', 'p05', 100),\n",
       " ('s01', 'p06', 200),\n",
       " ('s02', 'p01', 300),\n",
       " ('s02', 'p02', 400),\n",
       " ('s03', 'p02', 200),\n",
       " ('s04', 'p04', 300),\n",
       " ('s05', 'p05', 400)]"
      ]
     },
     "execution_count": 12,
     "metadata": {},
     "output_type": "execute_result"
    }
   ],
   "source": [
    "%sql select * from sp;"
   ]
  },
  {
   "cell_type": "code",
   "execution_count": null,
   "metadata": {
    "collapsed": true
   },
   "outputs": [],
   "source": []
  }
 ],
 "metadata": {
  "kernelspec": {
   "display_name": "Python 3",
   "language": "python",
   "name": "python3"
  },
  "language_info": {
   "codemirror_mode": {
    "name": "ipython",
    "version": 3
   },
   "file_extension": ".py",
   "mimetype": "text/x-python",
   "name": "python",
   "nbconvert_exporter": "python",
   "pygments_lexer": "ipython3",
   "version": "3.6.1"
  }
 },
 "nbformat": 4,
 "nbformat_minor": 2
}
