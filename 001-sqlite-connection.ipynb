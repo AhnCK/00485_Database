{
 "cells": [
  {
   "cell_type": "code",
   "execution_count": 1,
   "metadata": {},
   "outputs": [
    {
     "name": "stderr",
     "output_type": "stream",
     "text": [
      "/Users/kylelee/anaconda/lib/python2.7/site-packages/IPython/config.py:13: ShimWarning: The `IPython.config` package has been deprecated since IPython 4.0. You should import from traitlets.config instead.\n",
      "  \"You should import from traitlets.config instead.\", ShimWarning)\n",
      "/Users/kylelee/anaconda/lib/python2.7/site-packages/IPython/utils/traitlets.py:5: UserWarning: IPython.utils.traitlets has moved to a top-level traitlets package.\n",
      "  warn(\"IPython.utils.traitlets has moved to a top-level traitlets package.\")\n"
     ]
    }
   ],
   "source": [
    "%load_ext sql"
   ]
  },
  {
   "cell_type": "code",
   "execution_count": 2,
   "metadata": {},
   "outputs": [
    {
     "data": {
      "text/plain": [
       "u'Connected: None@sample1db.db'"
      ]
     },
     "execution_count": 2,
     "metadata": {},
     "output_type": "execute_result"
    }
   ],
   "source": [
    "%sql sqlite:///sample1db.db"
   ]
  },
  {
   "cell_type": "code",
   "execution_count": 3,
   "metadata": {},
   "outputs": [
    {
     "name": "stdout",
     "output_type": "stream",
     "text": [
      "Done.\n"
     ]
    },
    {
     "data": {
      "text/html": [
       "<table>\n",
       "    <tr>\n",
       "        <th>deptno</th>\n",
       "        <th>deptname</th>\n",
       "        <th>floor</th>\n",
       "    </tr>\n",
       "    <tr>\n",
       "        <td>1</td>\n",
       "        <td>영업</td>\n",
       "        <td>8</td>\n",
       "    </tr>\n",
       "    <tr>\n",
       "        <td>2</td>\n",
       "        <td>기획</td>\n",
       "        <td>10</td>\n",
       "    </tr>\n",
       "    <tr>\n",
       "        <td>3</td>\n",
       "        <td>개발</td>\n",
       "        <td>9</td>\n",
       "    </tr>\n",
       "    <tr>\n",
       "        <td>4</td>\n",
       "        <td>총부</td>\n",
       "        <td>7</td>\n",
       "    </tr>\n",
       "</table>"
      ],
      "text/plain": [
       "[(1, u'\\uc601\\uc5c5', 8),\n",
       " (2, u'\\uae30\\ud68d', 10),\n",
       " (3, u'\\uac1c\\ubc1c', 9),\n",
       " (4, u'\\ucd1d\\ubd80', 7)]"
      ]
     },
     "execution_count": 3,
     "metadata": {},
     "output_type": "execute_result"
    }
   ],
   "source": [
    "%sql select * from dept;"
   ]
  },
  {
   "cell_type": "code",
   "execution_count": 4,
   "metadata": {},
   "outputs": [
    {
     "name": "stdout",
     "output_type": "stream",
     "text": [
      "Done.\n"
     ]
    },
    {
     "data": {
      "text/html": [
       "<table>\n",
       "    <tr>\n",
       "        <th>empno</th>\n",
       "        <th>empname</th>\n",
       "        <th>title</th>\n",
       "        <th>manager</th>\n",
       "        <th>salary</th>\n",
       "        <th>dno</th>\n",
       "    </tr>\n",
       "    <tr>\n",
       "        <td>4377</td>\n",
       "        <td>이성래</td>\n",
       "        <td>사장</td>\n",
       "        <td>None</td>\n",
       "        <td>5000000</td>\n",
       "        <td>2</td>\n",
       "    </tr>\n",
       "    <tr>\n",
       "        <td>3426</td>\n",
       "        <td>박영권</td>\n",
       "        <td>과장</td>\n",
       "        <td>4377</td>\n",
       "        <td>3000000</td>\n",
       "        <td>1</td>\n",
       "    </tr>\n",
       "    <tr>\n",
       "        <td>3011</td>\n",
       "        <td>이수민</td>\n",
       "        <td>부장</td>\n",
       "        <td>4377</td>\n",
       "        <td>4000000</td>\n",
       "        <td>3</td>\n",
       "    </tr>\n",
       "    <tr>\n",
       "        <td>3427</td>\n",
       "        <td>최종철</td>\n",
       "        <td>사원</td>\n",
       "        <td>3011</td>\n",
       "        <td>1500000</td>\n",
       "        <td>3</td>\n",
       "    </tr>\n",
       "    <tr>\n",
       "        <td>1003</td>\n",
       "        <td>조민희</td>\n",
       "        <td>과장</td>\n",
       "        <td>4377</td>\n",
       "        <td>3000000</td>\n",
       "        <td>2</td>\n",
       "    </tr>\n",
       "    <tr>\n",
       "        <td>2106</td>\n",
       "        <td>김창섭</td>\n",
       "        <td>대리</td>\n",
       "        <td>1003</td>\n",
       "        <td>2500000</td>\n",
       "        <td>2</td>\n",
       "    </tr>\n",
       "    <tr>\n",
       "        <td>1365</td>\n",
       "        <td>김상원</td>\n",
       "        <td>사원</td>\n",
       "        <td>3426</td>\n",
       "        <td>1500000</td>\n",
       "        <td>1</td>\n",
       "    </tr>\n",
       "</table>"
      ],
      "text/plain": [
       "[(4377, u'\\uc774\\uc131\\ub798', u'\\uc0ac\\uc7a5', None, 5000000, 2),\n",
       " (3426, u'\\ubc15\\uc601\\uad8c', u'\\uacfc\\uc7a5', 4377, 3000000, 1),\n",
       " (3011, u'\\uc774\\uc218\\ubbfc', u'\\ubd80\\uc7a5', 4377, 4000000, 3),\n",
       " (3427, u'\\ucd5c\\uc885\\ucca0', u'\\uc0ac\\uc6d0', 3011, 1500000, 3),\n",
       " (1003, u'\\uc870\\ubbfc\\ud76c', u'\\uacfc\\uc7a5', 4377, 3000000, 2),\n",
       " (2106, u'\\uae40\\ucc3d\\uc12d', u'\\ub300\\ub9ac', 1003, 2500000, 2),\n",
       " (1365, u'\\uae40\\uc0c1\\uc6d0', u'\\uc0ac\\uc6d0', 3426, 1500000, 1)]"
      ]
     },
     "execution_count": 4,
     "metadata": {},
     "output_type": "execute_result"
    }
   ],
   "source": [
    "%sql select * from emp;\n"
   ]
  },
  {
   "cell_type": "code",
   "execution_count": 2,
   "metadata": {},
   "outputs": [
    {
     "data": {
      "text/plain": [
       "u'Connected: None@sample2db.db'"
      ]
     },
     "execution_count": 2,
     "metadata": {},
     "output_type": "execute_result"
    }
   ],
   "source": [
    "%sql sqlite:///sample2db.db"
   ]
  },
  {
   "cell_type": "code",
   "execution_count": 4,
   "metadata": {},
   "outputs": [
    {
     "name": "stdout",
     "output_type": "stream",
     "text": [
      "Done.\n"
     ]
    },
    {
     "data": {
      "text/html": [
       "<table>\n",
       "    <tr>\n",
       "        <th>sid</th>\n",
       "        <th>sname</th>\n",
       "        <th>major</th>\n",
       "        <th>gradelevel</th>\n",
       "        <th>Age</th>\n",
       "    </tr>\n",
       "    <tr>\n",
       "        <td>100</td>\n",
       "        <td>JONES</td>\n",
       "        <td>HISTORY</td>\n",
       "        <td>GR</td>\n",
       "        <td>21</td>\n",
       "    </tr>\n",
       "    <tr>\n",
       "        <td>150</td>\n",
       "        <td>PARKS</td>\n",
       "        <td>ACCOUNTING</td>\n",
       "        <td>SO</td>\n",
       "        <td>19</td>\n",
       "    </tr>\n",
       "    <tr>\n",
       "        <td>200</td>\n",
       "        <td>BAKER</td>\n",
       "        <td>MATH</td>\n",
       "        <td>GR</td>\n",
       "        <td>50</td>\n",
       "    </tr>\n",
       "    <tr>\n",
       "        <td>250</td>\n",
       "        <td>GLASS</td>\n",
       "        <td>HISTORY</td>\n",
       "        <td>SN</td>\n",
       "        <td>50</td>\n",
       "    </tr>\n",
       "    <tr>\n",
       "        <td>300</td>\n",
       "        <td>BAKER</td>\n",
       "        <td>ACCOUNTING</td>\n",
       "        <td>SN</td>\n",
       "        <td>41</td>\n",
       "    </tr>\n",
       "    <tr>\n",
       "        <td>350</td>\n",
       "        <td>RUSSEL</td>\n",
       "        <td>MATH</td>\n",
       "        <td>JR</td>\n",
       "        <td>20</td>\n",
       "    </tr>\n",
       "    <tr>\n",
       "        <td>400</td>\n",
       "        <td>RYE</td>\n",
       "        <td>ACCOUNTING</td>\n",
       "        <td>FR</td>\n",
       "        <td>18</td>\n",
       "    </tr>\n",
       "    <tr>\n",
       "        <td>450</td>\n",
       "        <td>JONES</td>\n",
       "        <td>HISTORY</td>\n",
       "        <td>SN</td>\n",
       "        <td>24</td>\n",
       "    </tr>\n",
       "</table>"
      ],
      "text/plain": [
       "[(100, u'JONES', u'HISTORY', u'GR', 21),\n",
       " (150, u'PARKS', u'ACCOUNTING', u'SO', 19),\n",
       " (200, u'BAKER', u'MATH', u'GR', 50),\n",
       " (250, u'GLASS', u'HISTORY', u'SN', 50),\n",
       " (300, u'BAKER', u'ACCOUNTING', u'SN', 41),\n",
       " (350, u'RUSSEL', u'MATH', u'JR', 20),\n",
       " (400, u'RYE', u'ACCOUNTING', u'FR', 18),\n",
       " (450, u'JONES', u'HISTORY', u'SN', 24)]"
      ]
     },
     "execution_count": 4,
     "metadata": {},
     "output_type": "execute_result"
    }
   ],
   "source": [
    "%%sql\n",
    "select * from student;\n"
   ]
  },
  {
   "cell_type": "code",
   "execution_count": 6,
   "metadata": {},
   "outputs": [
    {
     "name": "stdout",
     "output_type": "stream",
     "text": [
      "Done.\n"
     ]
    },
    {
     "data": {
      "text/html": [
       "<table>\n",
       "    <tr>\n",
       "        <th>cname</th>\n",
       "        <th>time</th>\n",
       "        <th>room</th>\n",
       "    </tr>\n",
       "    <tr>\n",
       "        <td>BA200</td>\n",
       "        <td>M-F9</td>\n",
       "        <td>SC110</td>\n",
       "    </tr>\n",
       "    <tr>\n",
       "        <td>BD445</td>\n",
       "        <td>MWF3</td>\n",
       "        <td>SC213</td>\n",
       "    </tr>\n",
       "    <tr>\n",
       "        <td>BF410</td>\n",
       "        <td>MWF8</td>\n",
       "        <td>SC213</td>\n",
       "    </tr>\n",
       "    <tr>\n",
       "        <td>CS150</td>\n",
       "        <td>MWF3</td>\n",
       "        <td>EA304</td>\n",
       "    </tr>\n",
       "    <tr>\n",
       "        <td>CS250</td>\n",
       "        <td>MWF12</td>\n",
       "        <td>EB210</td>\n",
       "    </tr>\n",
       "</table>"
      ],
      "text/plain": [
       "[(u'BA200', u'M-F9', u'SC110'),\n",
       " (u'BD445', u'MWF3', u'SC213'),\n",
       " (u'BF410', u'MWF8', u'SC213'),\n",
       " (u'CS150', u'MWF3', u'EA304'),\n",
       " (u'CS250', u'MWF12', u'EB210')]"
      ]
     },
     "execution_count": 6,
     "metadata": {},
     "output_type": "execute_result"
    }
   ],
   "source": [
    "\n",
    "%sql select * from class;\n"
   ]
  },
  {
   "cell_type": "code",
   "execution_count": 7,
   "metadata": {},
   "outputs": [
    {
     "name": "stdout",
     "output_type": "stream",
     "text": [
      "Done.\n"
     ]
    },
    {
     "data": {
      "text/html": [
       "<table>\n",
       "    <tr>\n",
       "        <th>studentnumber</th>\n",
       "        <th>classname</th>\n",
       "        <th>positionnumber</th>\n",
       "    </tr>\n",
       "    <tr>\n",
       "        <td>100</td>\n",
       "        <td>BD445</td>\n",
       "        <td>1</td>\n",
       "    </tr>\n",
       "    <tr>\n",
       "        <td>150</td>\n",
       "        <td>BA200</td>\n",
       "        <td>1</td>\n",
       "    </tr>\n",
       "    <tr>\n",
       "        <td>200</td>\n",
       "        <td>BD445</td>\n",
       "        <td>2</td>\n",
       "    </tr>\n",
       "    <tr>\n",
       "        <td>200</td>\n",
       "        <td>CS250</td>\n",
       "        <td>1</td>\n",
       "    </tr>\n",
       "    <tr>\n",
       "        <td>300</td>\n",
       "        <td>CS150</td>\n",
       "        <td>1</td>\n",
       "    </tr>\n",
       "    <tr>\n",
       "        <td>400</td>\n",
       "        <td>BA200</td>\n",
       "        <td>2</td>\n",
       "    </tr>\n",
       "    <tr>\n",
       "        <td>400</td>\n",
       "        <td>BF410</td>\n",
       "        <td>1</td>\n",
       "    </tr>\n",
       "    <tr>\n",
       "        <td>400</td>\n",
       "        <td>CS250</td>\n",
       "        <td>2</td>\n",
       "    </tr>\n",
       "    <tr>\n",
       "        <td>450</td>\n",
       "        <td>BA200</td>\n",
       "        <td>3</td>\n",
       "    </tr>\n",
       "</table>"
      ],
      "text/plain": [
       "[(100, u'BD445', 1),\n",
       " (150, u'BA200', 1),\n",
       " (200, u'BD445', 2),\n",
       " (200, u'CS250', 1),\n",
       " (300, u'CS150', 1),\n",
       " (400, u'BA200', 2),\n",
       " (400, u'BF410', 1),\n",
       " (400, u'CS250', 2),\n",
       " (450, u'BA200', 3)]"
      ]
     },
     "execution_count": 7,
     "metadata": {},
     "output_type": "execute_result"
    }
   ],
   "source": [
    "%%sql\n",
    "select * from enrollment;\n"
   ]
  }
 ],
 "metadata": {
  "kernelspec": {
   "display_name": "Python 2",
   "language": "python",
   "name": "python2"
  },
  "language_info": {
   "codemirror_mode": {
    "name": "ipython",
    "version": 2
   },
   "file_extension": ".py",
   "mimetype": "text/x-python",
   "name": "python",
   "nbconvert_exporter": "python",
   "pygments_lexer": "ipython2",
   "version": "2.7.13"
  }
 },
 "nbformat": 4,
 "nbformat_minor": 2
}
